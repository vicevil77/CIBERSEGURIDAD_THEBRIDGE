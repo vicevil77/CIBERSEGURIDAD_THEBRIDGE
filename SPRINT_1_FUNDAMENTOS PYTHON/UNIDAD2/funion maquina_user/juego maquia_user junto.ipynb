{
 "cells": [
  {
   "cell_type": "code",
   "execution_count": null,
   "metadata": {},
   "outputs": [],
   "source": [
    "def usuario_maquina():\n",
    "    while True:#se crea un bucle infinito para que el juego se repita\n",
    "        #se imprime el mensaje de bienvenida y las reglas del juego\n",
    "        print(\"Bienvenidos al juego de 'piedra, papel y tijera' donde podrás enfrentarte a la máquina\")\n",
    "        print(\"Las reglas son las siguientes: \\n Piedra gana a tijera \\n Tijera gana a papel \\n Papel gana a piedra\")\n",
    "        print(\"Si quieres salir del juego escribe 'salir'\")\n",
    "        \n",
    "        #opciones maquina y jugador\n",
    "        opciones = [\"piedra\", \"papel\", \"tijera\"]\n",
    "        maquina = random.choice(opciones)# con random.choice se elige una opcion aleatoria de la lista opciones de la maquina\n",
    "           \n",
    "        #se pide al jugador que elija una opcion\n",
    "        jugador = input(\"Escribe tu opcion entre las posibles: 'piedra', 'papel', 'tijera'\").lower()#por si escribe en mayusculas\n",
    "        # las posibles opciones que puede elegir el jugador y los posibles resultados\n",
    "        print(\"La maquina ha elegido:\", maquina)    \n",
    "        if jugador == \"salir\":\n",
    "            print(\"Gracias por jugar\")\n",
    "        elif jugador == maquina:\n",
    "            print(\"Empate\")\n",
    "        elif jugador == \"piedra\":\n",
    "            if maquina == \"tijera\":\n",
    "                print(\"Ganaste\")\n",
    "            else:\n",
    "                print(\"Perdiste\")\n",
    "        elif jugador == \"papel\":\n",
    "            if maquina == \"piedra\":\n",
    "                print(\"Ganaste\")\n",
    "            else:\n",
    "                print(\"Perdiste\")\n",
    "        elif jugador == \"tijera\":\n",
    "            if maquina == \"papel\":\n",
    "                print(\"Ganaste\")\n",
    "            else:\n",
    "                print(\"Perdiste\")\n",
    "        else:\n",
    "            if jugador != opciones:\n",
    "                print(\"Opcion no valida\")\n",
    "                \n",
    "        print(\"Deseas jugar de nuevo?\")\n",
    "        respuesta = input(\"Escribe 'si' para jugar de nuevo o 'no' para salir\").lower()\n",
    "        if respuesta != 'si':\n",
    "            break"
   ]
  }
 ],
 "metadata": {
  "language_info": {
   "name": "python"
  }
 },
 "nbformat": 4,
 "nbformat_minor": 2
}
