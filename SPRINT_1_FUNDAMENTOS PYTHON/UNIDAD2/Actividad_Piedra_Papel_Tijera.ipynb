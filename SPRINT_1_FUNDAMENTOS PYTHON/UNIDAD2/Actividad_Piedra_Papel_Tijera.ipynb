{
 "cells": [
  {
   "cell_type": "markdown",
   "metadata": {},
   "source": [
    "<img src=\"./img/TheBridge_logo_RGB_color.jpg\" width = 250>\n",
    "<img src=\"./img/python.jpg\" width = 250>"
   ]
  },
  {
   "cell_type": "markdown",
   "metadata": {},
   "source": [
    "# Unidad 2 - Piedra, Papel o Tijera en Python\n",
    "\n",
    "\n",
    "Bienvenido a tu segunda actividad en Python. En este ejercicio implementaremos una versión del juego de piedra, papel o tijera, para jugar contra la máquina. Para ella iremos paso a paso definiendo funcionalidades básicas. \n"
   ]
  },
  {
   "cell_type": "markdown",
   "metadata": {},
   "source": [
    "## Función generar opción máquina\n",
    "\n",
    "Definir una función que genere una opción para la máquina. Esta opción será con la que juegue la máquina."
   ]
  },
  {
   "cell_type": "code",
   "execution_count": 71,
   "metadata": {},
   "outputs": [],
   "source": [
    "#libererias necesarias\n",
    "import random\n",
    "import time"
   ]
  },
  {
   "cell_type": "code",
   "execution_count": 76,
   "metadata": {},
   "outputs": [],
   "source": [
    "def maquina(user):\n",
    "    \n",
    "     while True:#se crea un bucle infinito para que el juego se repita\n",
    "        print(\"Soy tu maquina y voy a reventarte jugando a piedra, papel o tijera\")\n",
    "        time.sleep(1)\n",
    "        print(\"cómo quieres que te llame ¿perdedor? jajajaja:\")\n",
    "        apodo= input(\"nombre de usuario\")\n",
    "        #la maquina pregunta el nombre contra el que va a jugar\n",
    "        time.sleep(1)\n",
    "        print(\" voy a prepararme para ganarte\", apodo)\n",
    "        time.sleep(1)   \n",
    "        print(\"empecemos!!\")\n",
    "        \n",
    "        #la maquina elige una opcion aleatoria y se imprime en pantalla\n",
    "        opciones=[\"piedra\", \"papel\", \"tijera\"]\n",
    "        machine = random.choice(opciones)\n",
    "        time.sleep(1)\n",
    "        print(\"La maquina ha elegido:\", machine)\n",
    "        time.sleep(1)\n",
    "        print(f\"usuario: {user} vs maquina: {machine}\")\n",
    "        time.sleep(1)\n",
    "        print(\" a ver que ocurre.....\")\n",
    "        time.sleep(1)\n",
    "            \n",
    "        #condiciones para ganar, perder o empatar   \n",
    "        if machine == \"piedra\" and user == \"papel\":\n",
    "            print(\"Ganaste\")\n",
    "        elif machine == \"papel\" and user == \"tijera\":\n",
    "            print(\"Ganaste\")\n",
    "        elif machine == \"tijera\" and user == \"piedra\":\n",
    "            print(\"Ganaste\")\n",
    "        elif machine == \"papel\" and user == \"piedra\":\n",
    "            print(\"Perdiste\")\n",
    "        elif machine == \"tijera\" and user == \"papel\":\n",
    "            print(\"Perdiste\")\n",
    "        elif machine == \"piedra\" and user == \"tijera\":\n",
    "            print(\"Perdiste\")\n",
    "        elif machine == user:\n",
    "            print(\"Empate\")\n",
    "        else:\n",
    "            print(\"Opcion no valida\")\n",
    "        time.sleep(1)\n",
    "        \n",
    "        #si el jugador elige salir, se rompe el bucle y se sale del juego\n",
    "        print(\"Deseas jugar de nuevo?, escribe 'si' o 'no' para salir\")\n",
    "        respuesta = input(\" si para jugar de nuevo o no para salir\").lower()\n",
    "        if respuesta != 'si':\n",
    "            break\n",
    "        return usuario(user)\n",
    "        "
   ]
  },
  {
   "cell_type": "markdown",
   "metadata": {},
   "source": [
    "## Función jugar\n",
    "\n",
    "Definir una función que solicite al usuario la opción que elige:\n",
    "\n",
    " .Piedra\n",
    " .Papel\n",
    " .Tijera\n",
    "\n",
    " Una vez obtenida esta información, la función deberá generar la opción de la máquina y decidir si el usuario gana o pierde."
   ]
  },
  {
   "cell_type": "code",
   "execution_count": 77,
   "metadata": {},
   "outputs": [],
   "source": [
    "def usuario(user):\n",
    "        #se imprime el mensaje de bienvenida y las reglas del juego\n",
    "        print(\"Bienvenidos al juego de 'piedra, papel y tijera' donde podrás enfrentarte a la máquina\")\n",
    "        time.sleep(1)\n",
    "        print(\"Las reglas son las siguientes: \\n Piedra gana a tijera \\n Tijera gana a papel \\n Papel gana a piedra\")\n",
    "        time.sleep(1)\n",
    "        print(\"Si quieres salir del juego escribe 'salir'\")\n",
    "        time.sleep(1)            \n",
    "        #se pide al user que elija una opcion\n",
    "        print(\"Elige entre las siguientes opciones: piedra, papel o tijera\")\n",
    "        user = input(\"Escribe tu opcion:\").lower()#por si escribe en mayusculas\n",
    "        #llamo a la funcion de la maquina\n",
    "        maquina(user)\n",
    "        "
   ]
  },
  {
   "cell_type": "code",
   "execution_count": 78,
   "metadata": {},
   "outputs": [
    {
     "name": "stdout",
     "output_type": "stream",
     "text": [
      "Bienvenidos al juego de 'piedra, papel y tijera' donde podrás enfrentarte a la máquina\n",
      "Las reglas son las siguientes: \n",
      " Piedra gana a tijera \n",
      " Tijera gana a papel \n",
      " Papel gana a piedra\n",
      "Si quieres salir del juego escribe 'salir'\n",
      "Elige entre las siguientes opciones: piedra, papel o tijera\n",
      "Soy tu maquina y voy a reventarte jugando a piedra, papel o tijera\n",
      "cómo quieres que te llame ¿perdedor? jajajaja:\n",
      " voy a prepararme para ganarte victor\n",
      "empecemos!!\n",
      "La maquina ha elegido: piedra\n",
      "usuario: piedra vs maquina: piedra\n",
      " a ver que ocurre.....\n",
      "Empate\n",
      "Deseas jugar de nuevo?, escribe 'si' o 'no' para salir\n"
     ]
    }
   ],
   "source": [
    "usuario(user=\"\")"
   ]
  },
  {
   "cell_type": "code",
   "execution_count": null,
   "metadata": {},
   "outputs": [],
   "source": []
  }
 ],
 "metadata": {
  "kernelspec": {
   "display_name": "Python 3 (ipykernel)",
   "language": "python",
   "name": "python3"
  },
  "language_info": {
   "codemirror_mode": {
    "name": "ipython",
    "version": 3
   },
   "file_extension": ".py",
   "mimetype": "text/x-python",
   "name": "python",
   "nbconvert_exporter": "python",
   "pygments_lexer": "ipython3",
   "version": "3.8.19"
  },
  "nbTranslate": {
   "displayLangs": [
    "*"
   ],
   "hotkey": "alt-t",
   "langInMainMenu": true,
   "sourceLang": "en",
   "targetLang": "fr",
   "useGoogleTranslate": true
  },
  "varInspector": {
   "cols": {
    "lenName": 16,
    "lenType": 16,
    "lenVar": 40
   },
   "kernels_config": {
    "python": {
     "delete_cmd_postfix": "",
     "delete_cmd_prefix": "del ",
     "library": "var_list.py",
     "varRefreshCmd": "print(var_dic_list())"
    },
    "r": {
     "delete_cmd_postfix": ") ",
     "delete_cmd_prefix": "rm(",
     "library": "var_list.r",
     "varRefreshCmd": "cat(var_dic_list()) "
    }
   },
   "types_to_exclude": [
    "module",
    "function",
    "builtin_function_or_method",
    "instance",
    "_Feature"
   ],
   "window_display": false
  }
 },
 "nbformat": 4,
 "nbformat_minor": 4
}
