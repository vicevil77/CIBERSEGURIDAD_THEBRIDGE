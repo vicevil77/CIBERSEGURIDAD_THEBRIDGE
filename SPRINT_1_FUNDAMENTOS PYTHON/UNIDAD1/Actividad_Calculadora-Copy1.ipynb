{
 "cells": [
  {
   "cell_type": "markdown",
   "metadata": {},
   "source": [
    "<img src=\"./img/TheBridge_logo_RGB_color.jpg\" width = 250>\n",
    "<img src=\"./img/python.jpg\" width = 250>"
   ]
  },
  {
   "cell_type": "markdown",
   "metadata": {},
   "source": [
    "# Unidad 1 - Calculadora en Python\n",
    "\n",
    "\n",
    "Bienvenido a tu primera actividad en Python. En este ejercicio implementaremos una versión básica de una aplicación que simule las operaciones báscias de una calculadora. Para ello iremos paso a paso definiendo funcionalidades básicas.\n"
   ]
  },
  {
   "cell_type": "code",
   "execution_count": 2,
   "metadata": {},
   "outputs": [],
   "source": [
    "#importo las librerias necesarias\n",
    "import os\n",
    "import time"
   ]
  },
  {
   "cell_type": "markdown",
   "metadata": {},
   "source": [
    "## Función suma\n",
    "\n",
    "Definir una función que devuelva la suma de los dos números que se pasan como parámetro:"
   ]
  },
  {
   "cell_type": "code",
   "execution_count": 3,
   "metadata": {},
   "outputs": [],
   "source": [
    "def suma(x,y):\n",
    "   return x+y"
   ]
  },
  {
   "cell_type": "markdown",
   "metadata": {},
   "source": [
    "## Función resta \n",
    "\n",
    "Definir una función que devuelva la resta de los dos números que se pasan como parámetro:"
   ]
  },
  {
   "cell_type": "code",
   "execution_count": 4,
   "metadata": {},
   "outputs": [],
   "source": [
    "def resta(x,y):\n",
    "    return x-y"
   ]
  },
  {
   "cell_type": "markdown",
   "metadata": {},
   "source": [
    "## Función multiplicar \n",
    "\n",
    "Definir una función que devuelva el resultado de multiplicar dos números que se pasan como parámetro:"
   ]
  },
  {
   "cell_type": "code",
   "execution_count": 5,
   "metadata": {},
   "outputs": [],
   "source": [
    "def multiplica(x,y):\n",
    "    return x*y\n",
    " "
   ]
  },
  {
   "cell_type": "markdown",
   "metadata": {},
   "source": [
    "## Función dividir\n",
    "\n",
    "Definir una función que devuelva el resultado de dividir dos números que se pasan como parámetro:"
   ]
  },
  {
   "cell_type": "code",
   "execution_count": 6,
   "metadata": {},
   "outputs": [],
   "source": [
    "def divide(x,y):\n",
    "    if y != 0:\n",
    "        return x / y\n",
    "    else:\n",
    "        return \"Error: División por cero\""
   ]
  },
  {
   "cell_type": "markdown",
   "metadata": {},
   "source": [
    "## Menú de interacción con el usuario\n",
    "\n",
    "Definir la función que muestre un menú al usuario con las opciones que ofrece la calculadora (las operaciones):"
   ]
  },
  {
   "cell_type": "code",
   "execution_count": 8,
   "metadata": {},
   "outputs": [],
   "source": [
    "\n",
    "def calculadora(z,x,y):\n",
    "    if z == 1:\n",
    "        return suma(x,y)\n",
    "    elif z == 2:\n",
    "        return resta(x,y)\n",
    "    elif z == 3:\n",
    "        return multiplica(x,y)\n",
    "    elif z == 4:\n",
    "        return divide(x,y)\n",
    "    else:\n",
    "        print(\"opcion no valida\")\n",
    "\n"
   ]
  },
  {
   "cell_type": "code",
   "execution_count": 12,
   "metadata": {},
   "outputs": [
    {
     "data": {
      "text/plain": [
       "0"
      ]
     },
     "execution_count": 12,
     "metadata": {},
     "output_type": "execute_result"
    }
   ],
   "source": [
    "calculadora(3, 3, 0)"
   ]
  },
  {
   "cell_type": "markdown",
   "metadata": {},
   "source": [
    "## Cuerpo (Main) del programa\n",
    "\n",
    "Escribir el código principal del programa que llame a las funciones programadas anteriormente, para así poder operar con números."
   ]
  },
  {
   "cell_type": "code",
   "execution_count": 11,
   "metadata": {},
   "outputs": [
    {
     "name": "stdout",
     "output_type": "stream",
     "text": [
      "Bienvenido a la calculadora de operaciones basicas de Python\n",
      "El menu de opciones es:\n",
      "        1) Suma\n",
      "        2) Resta\n",
      "        3) Multiplicacion\n",
      "        4) Division\n",
      "        5) Salir \n",
      "        \n",
      "La opcion a operar ha sido : 4.0\n",
      "Los numeros que ha introducido son: 3 y 2\n",
      "Ha elegido la division de: 3 / 2\n",
      "El resultado es:  1.5\n",
      "Bienvenido a la calculadora de operaciones basicas de Python\n",
      "El menu de opciones es:\n",
      "        1) Suma\n",
      "        2) Resta\n",
      "        3) Multiplicacion\n",
      "        4) Division\n",
      "        5) Salir \n",
      "        \n",
      "La opcion a operar ha sido : 4.0\n",
      "Los numeros que ha introducido son: 4.5 y 5.7\n",
      "Ha elegido la division de: 4.5 / 5.7\n",
      "El resultado es:  0.79\n",
      "Gracias por usar la calculadora\n"
     ]
    },
    {
     "ename": "",
     "evalue": "",
     "output_type": "error",
     "traceback": [
      "\u001b[1;31mEl kernel se bloqueó al ejecutar código en la celda actual o en una celda anterior. \n",
      "\u001b[1;31mRevise el código de las celdas para identificar una posible causa del error. \n",
      "\u001b[1;31mHaga clic <a href='https://aka.ms/vscodeJupyterKernelCrash'>aquí</a> para obtener más información. \n",
      "\u001b[1;31mVea Jupyter <a href='command:jupyter.viewOutput'>log</a> para obtener más detalles."
     ]
    }
   ],
   "source": [
    "while True:#se crea un bucle para que el usuario pueda realizar varias operaciones sin tener que cerrar el programa    \n",
    "    \n",
    "    # menu de inicio para el usuario\n",
    "    print(\"Bienvenido a la calculadora de operaciones basicas de Python\")\n",
    "    print(\"\"\"El menu de opciones es:\n",
    "        1) Suma\n",
    "        2) Resta\n",
    "        3) Multiplicacion\n",
    "        4) Division\n",
    "        5) Salir \n",
    "        \"\"\")\n",
    "\n",
    "    condicion = True\n",
    "    while condicion: #se crea un bucle para que el usuario pueda elegir una opcion valida, sin tener que cerrar el programa, salvo elija la opcion 5\n",
    "        operacion = float(input(\"Introduzca la operacion que desea realizar: \"))\n",
    "            \n",
    "        if operacion > 5 or operacion < 1 or operacion % 1 != 0:\n",
    "            print(\"Error, por favor intentelo de nuevo, y elija entre las opciones disponibles del menu,  sin comas ni decimalesy solo numeros enteros\")\n",
    "            float(input(\"Introduzca la operacion que desea realizar: \"))\n",
    "        elif operacion == 5:\n",
    "            print(\"Gracias por usar la calculadora\")\n",
    "            time.sleep(2)\n",
    "            os._exit(0)#se cierra el programa en jupyter notebook, si es script se puede usar exit()\n",
    "        elif operacion <= 5:\n",
    "            print(f\"La opcion a operar ha sido : {operacion}\")    \n",
    "            condicion =False\n",
    "\n",
    "    #el usuario introduce los numeros a operar, pero en caso que el  final del numero de decimal es  0, se convierte a entero\n",
    "    num_1= input(\"Intruduzca el primer numero: \")\n",
    "    num_2= input(\"Intruduzca el segundo numero: \")\n",
    "\n",
    "    # convertir a float\n",
    "    num_1 = float(num_1)\n",
    "    num_2 = float(num_2)\n",
    "\n",
    "    #si el resto de la division es 0, entonces es un numero entero\n",
    "    if num_1 % 1 == 0:\n",
    "        num_1 = int(num_1)\n",
    "    if num_2 % 1 == 0:\n",
    "        num_2 = int(num_2)    \n",
    "\n",
    "    #se visualiza los numeros que ha introducido el usuario\n",
    "    print(f\"Los numeros que ha introducido son: {num_1} y {num_2}\")\n",
    "        \n",
    "    #Se realiza condicicionales para la ejecucion de la operacion matematica elegida por el usuario, la cual ha sido redondeada a 2 decimales máximo\n",
    "    if operacion == 1:\n",
    "        print(f\"Ha elegido la suma de: {num_1} + {num_2}\")\n",
    "        print(\"El resultado es: \", round(calculadora(1, num_1, num_2),2))\n",
    "    elif operacion== 2:\n",
    "        print(f\"Ha elegido la resta de: {num_1} - {num_2}\")\n",
    "        print(\"El resultado es: \",round(calculadora(2, num_1, num_2),2))\n",
    "    elif operacion == 3:\n",
    "        print(f\"Ha elegido la multiplicacion de: {num_1} X {num_2}\")\n",
    "        print(\"El resultado es :\", round(calculadora(3, num_1, num_2),2))\n",
    "    elif operacion == 4:\n",
    "        print(f\"Ha elegido la division de: {num_1} / {num_2}\")\n",
    "        print(\"El resultado es: \", round(calculadora(4, num_1, num_2),2))\n",
    "        \n",
    "    #En caso que el usuario desee continuar operando, se le pregunta si desea realizar otra operacion, en caso contrario se cierra el programa\n",
    "    otra_operacion = input(\"¿Desea realizar otra operación? (s/n): \")\n",
    "    if otra_operacion == \"s\":\n",
    "        continue\n",
    "    else:\n",
    "        print(\"Gracias por usar la calculadora\")\n",
    "        time.sleep(2)\n",
    "        os._exit(0)"
   ]
  }
 ],
 "metadata": {
  "kernelspec": {
   "display_name": "Python 3 (ipykernel)",
   "language": "python",
   "name": "python3"
  },
  "language_info": {
   "codemirror_mode": {
    "name": "ipython",
    "version": 3
   },
   "file_extension": ".py",
   "mimetype": "text/x-python",
   "name": "python",
   "nbconvert_exporter": "python",
   "pygments_lexer": "ipython3",
   "version": "3.8.19"
  },
  "nbTranslate": {
   "displayLangs": [
    "*"
   ],
   "hotkey": "alt-t",
   "langInMainMenu": true,
   "sourceLang": "en",
   "targetLang": "fr",
   "useGoogleTranslate": true
  },
  "varInspector": {
   "cols": {
    "lenName": 16,
    "lenType": 16,
    "lenVar": 40
   },
   "kernels_config": {
    "python": {
     "delete_cmd_postfix": "",
     "delete_cmd_prefix": "del ",
     "library": "var_list.py",
     "varRefreshCmd": "print(var_dic_list())"
    },
    "r": {
     "delete_cmd_postfix": ") ",
     "delete_cmd_prefix": "rm(",
     "library": "var_list.r",
     "varRefreshCmd": "cat(var_dic_list()) "
    }
   },
   "types_to_exclude": [
    "module",
    "function",
    "builtin_function_or_method",
    "instance",
    "_Feature"
   ],
   "window_display": false
  }
 },
 "nbformat": 4,
 "nbformat_minor": 4
}
